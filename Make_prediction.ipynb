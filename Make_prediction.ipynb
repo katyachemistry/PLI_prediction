{
  "nbformat": 4,
  "nbformat_minor": 0,
  "metadata": {
    "colab": {
      "provenance": [],
      "gpuType": "T4",
      "authorship_tag": "ABX9TyON3dIHyAX9d6FZsae7XnGw",
      "include_colab_link": true
    },
    "kernelspec": {
      "name": "python3",
      "display_name": "Python 3"
    },
    "language_info": {
      "name": "python"
    },
    "accelerator": "GPU"
  },
  "cells": [
    {
      "cell_type": "markdown",
      "metadata": {
        "id": "view-in-github",
        "colab_type": "text"
      },
      "source": [
        "<a href=\"https://colab.research.google.com/github/katyachemistry/PLI_prediction/blob/main/Make_prediction.ipynb\" target=\"_parent\"><img src=\"https://colab.research.google.com/assets/colab-badge.svg\" alt=\"Open In Colab\"/></a>"
      ]
    },
    {
      "cell_type": "markdown",
      "source": [
        "# Dependencies and example data"
      ],
      "metadata": {
        "id": "xTWC467gh_Ho"
      }
    },
    {
      "cell_type": "code",
      "execution_count": 6,
      "metadata": {
        "id": "kQ7QTsobhnJg"
      },
      "outputs": [],
      "source": [
        "!pip install rdkit-pypi\n",
        "import pandas as pd\n",
        "import numpy as np\n",
        "import pickle\n",
        "import torch\n",
        "import torch.nn as nn\n",
        "import torch.optim as optim\n",
        "from torch.utils.data import DataLoader, Dataset\n",
        "from tqdm import tqdm\n",
        "import h5py\n",
        "from rdkit.Chem import AllChem\n",
        "from rdkit import Chem\n",
        "from IPython.display import clear_output"
      ]
    },
    {
      "cell_type": "code",
      "source": [
        "# Load example protein embeddings\n",
        "!gdown 1qLNO7zeSA_0Hw5htwl3q85PSXP-cm2-W"
      ],
      "metadata": {
        "id": "fyCfEF8Z_Wur"
      },
      "execution_count": null,
      "outputs": []
    },
    {
      "cell_type": "markdown",
      "source": [
        "# Make prediction"
      ],
      "metadata": {
        "id": "MZmjOz54BnVV"
      }
    },
    {
      "cell_type": "code",
      "source": [
        "#@markdown - SMILES string of your molecule. We use ATP as an example\n",
        "SMILES = \"C1=NC(=C2C(=N1)N(C=N2)C3C(C(C(O3)COP(=O)(O)OP(=O)(O)OP(=O)(O)O)O)O)N\" #@param {type:\"string\"}\n",
        "#@markdown - path to the obtained ProtT5 embeddings. For details see README of [this repo](https://github.com/katyachemistry/PLI_prediction). As an example, we use [this protein's](https://www.uniprot.org/uniprotkb/P0A7A9/) embedding\n",
        "path_to_ProtT5_h5 = \"./ppa_prott5_embedding.h5\" #@param {type:\"string\"}\n",
        "#@markdown - your protein name, as it was written in FASTA-file you submitted to ProtT5 notebook\n",
        "protein_name = \"ppa\" #@param {type:\"string\"}\n",
        "\n",
        "mol = Chem.MolFromSmiles(SMILES)\n",
        "fpts =  AllChem.GetMorganFingerprintAsBitVect(mol,2,1024)\n",
        "mfpts = torch.tensor(fpts).to(torch.float32).view(1, 1024)\n",
        "\n",
        "!gdown 1J0Ve8cw-DZBgTBs2CLVWFnoVSlgJdVay\n",
        "\n",
        "class InteractionClassifier_ProtT5_based(nn.Module):\n",
        "    '''\n",
        "    Interaction/non-interaction classification model for using ProtT5 protein embeddings\n",
        "\n",
        "    Args:\n",
        "        input_size_protein (int): Size of the input feature vector for proteins.\n",
        "        input_size_molecule (int): Size of the input feature vector for molecules.\n",
        "        fc1_layer_size_factor (int): Factor to reduce the size of the first fully connected layer.\n",
        "        fc2_layer_size_factor (int): Factor to reduce the size of the second fully connected layer.\n",
        "        dropout_rate (float): Dropout rate to apply after each layer. Default is 0.\n",
        "\n",
        "    Attributes:\n",
        "        protein_fc1 (nn.Linear): First fully connected layer for protein features.\n",
        "        protein_fc2 (nn.Linear): Second fully connected layer for protein features.\n",
        "        molecule_fc1 (nn.Linear): First fully connected layer for molecule features.\n",
        "        molecule_fc2 (nn.Linear): Second fully connected layer for molecule features.\n",
        "        dropout (nn.Dropout): Dropout layer.\n",
        "        fc1 (nn.Linear): Fully connected layer combining protein and molecule features.\n",
        "        fc2 (nn.Linear): Output layer.\n",
        "        norm_prot1 (nn.BatchNorm1d): Batch normalization for the first protein layer.\n",
        "        norm_prot2 (nn.BatchNorm1d): Batch normalization for the second protein layer.\n",
        "        norm_mol1 (nn.BatchNorm1d): Batch normalization for the first molecule layer.\n",
        "        norm_mol2 (nn.BatchNorm1d): Batch normalization for the second molecule layer.\n",
        "        norm_all (nn.BatchNorm1d): Batch normalization for the combined features layer.\n",
        "    '''\n",
        "\n",
        "    def __init__(self, input_size_protein, input_size_molecule, fc1_layer_size_factor, fc2_layer_size_factor, dropout_rate=0):\n",
        "        super().__init__()\n",
        "\n",
        "        output_size_protein_1 = int(input_size_protein / fc1_layer_size_factor)\n",
        "        self.protein_fc1 = nn.Linear(input_size_protein, output_size_protein_1)\n",
        "\n",
        "        output_size_protein_2 = int(output_size_protein_1 / fc2_layer_size_factor)\n",
        "        self.protein_fc2 = nn.Linear(output_size_protein_1, output_size_protein_2)\n",
        "\n",
        "        output_size_molecule_1 = int(input_size_molecule / fc1_layer_size_factor)\n",
        "        self.molecule_fc1 = nn.Linear(input_size_molecule, output_size_molecule_1)\n",
        "\n",
        "        output_size_molecule_2 = int(output_size_molecule_1 / fc2_layer_size_factor)\n",
        "        self.molecule_fc2 = nn.Linear(output_size_molecule_1, output_size_molecule_2)\n",
        "\n",
        "        self.relu = nn.ReLU()\n",
        "        self.dropout = nn.Dropout(p=dropout_rate)\n",
        "\n",
        "        self.fc1 = nn.Linear(output_size_protein_2 + output_size_molecule_2, 64)\n",
        "        self.fc2 = nn.Linear(64, 1)\n",
        "\n",
        "        self.norm_prot1 = nn.BatchNorm1d(output_size_protein_1)\n",
        "        self.norm_prot2 = nn.BatchNorm1d(output_size_protein_2)\n",
        "        self.norm_mol1 = nn.BatchNorm1d(output_size_molecule_1)\n",
        "        self.norm_mol2 = nn.BatchNorm1d(output_size_molecule_2)\n",
        "        self.norm_all = nn.BatchNorm1d(64)\n",
        "\n",
        "    def forward(self, protein, molecule):\n",
        "        molecule = molecule.view(molecule.size(0), -1).to(torch.float32)\n",
        "\n",
        "        protein = self.relu(self.norm_prot1(self.protein_fc1(protein)))\n",
        "        protein = self.dropout(protein)\n",
        "        protein = self.relu(self.norm_prot2(self.protein_fc2(protein)))\n",
        "        protein = self.dropout(protein)\n",
        "\n",
        "        molecule = self.relu(self.norm_mol1(self.molecule_fc1(molecule)))\n",
        "        molecule = self.dropout(molecule)\n",
        "        molecule = self.relu(self.norm_mol2(self.molecule_fc2(molecule)))\n",
        "        molecule = self.dropout(molecule)\n",
        "\n",
        "        combined = torch.cat((protein, molecule), dim=1)\n",
        "\n",
        "        x = self.relu(self.norm_all(self.fc1(combined)))\n",
        "        x = self.dropout(x)\n",
        "\n",
        "        x = self.fc2(x)\n",
        "\n",
        "        return x\n",
        "\n",
        "\n",
        "checkpoint_path = 'ProtT5_Morgan7.ckpt'\n",
        "checkpoint = torch.load(checkpoint_path)\n",
        "model = InteractionClassifier_ProtT5_based(1024, 1024, 2, 2, 0)\n",
        "new_state_dict = {}\n",
        "for key in list(checkpoint['state_dict'].keys())[:-1]:\n",
        "  new_state_dict[key[6:]] = checkpoint['state_dict'][key]\n",
        "model.load_state_dict(new_state_dict)\n",
        "model.eval()\n",
        "clear_output()\n",
        "\n",
        "protein = torch.tensor(h5py.File(path_to_ProtT5_h5,'r')[protein_name][:]).to(torch.float32).view(1, 1024)\n",
        "\n",
        "\n",
        "with torch.no_grad():\n",
        "  proba = float(nn.functional.sigmoid(model(protein, mfpts))[0][0])\n",
        "print(f'The probability of this interaction is {proba:.3f}')\n"
      ],
      "metadata": {
        "colab": {
          "base_uri": "https://localhost:8080/"
        },
        "cellView": "form",
        "id": "fk2qVyzRwOuK",
        "outputId": "afb3301a-ae20-4152-bd02-e34310b1fc34"
      },
      "execution_count": 28,
      "outputs": [
        {
          "output_type": "stream",
          "name": "stdout",
          "text": [
            "The probability of this interaction is 0.961\n"
          ]
        }
      ]
    }
  ]
}